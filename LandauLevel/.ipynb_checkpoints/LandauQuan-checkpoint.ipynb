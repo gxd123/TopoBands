{
 "cells": [
  {
   "cell_type": "markdown",
   "metadata": {},
   "source": [
    "# 0 Methods and Procedure"
   ]
  },
  {
   "cell_type": "code",
   "execution_count": null,
   "metadata": {},
   "outputs": [],
   "source": []
  },
  {
   "cell_type": "markdown",
   "metadata": {},
   "source": [
    "# 1 Weyl SM： $\\vec{B}=B\\hat{z}$"
   ]
  },
  {
   "cell_type": "markdown",
   "metadata": {},
   "source": [
    "$\\hat{H}=\\begin{pmatrix}k_{z}&k_{-}\\\\k_{+}&-k_{z}\\end{pmatrix}\n",
    "\\rightarrow\n",
    "\\begin{pmatrix}k_{z}&\\sqrt{B}a\\\\\\dagger&-k_{z}\\end{pmatrix}$\n",
    "\n",
    "with basis $(|\\varphi_{1}\\rangle,|\\varphi_{2}\\rangle)^{T}$"
   ]
  },
  {
   "cell_type": "markdown",
   "metadata": {},
   "source": [
    "- New basis after Landau level quantization:\n",
    "\n",
    "$(|\\varphi_{2},0\\rangle,|\\varphi_{1},0\\rangle,|\\varphi_{2},1\\rangle,|\\varphi_{1},1\\rangle,|\\varphi_{2},2\\rangle,\\cdots,|\\varphi_{1},N\\rangle)^{T}\n",
    "\\equiv (|\\varphi_{2},0\\rangle,|\\psi_{0}\\rangle,|\\psi_{1}\\rangle,\\cdots,|\\varphi_{1},N\\rangle)^{T}$"
   ]
  },
  {
   "cell_type": "markdown",
   "metadata": {},
   "source": [
    "$\\langle \\psi_{n}|\\hat{H}|\\psi_{n}\\rangle \n",
    "=\\begin{pmatrix}k_{z}&\\sqrt{B}\\sqrt{n+1}\\\\\\dagger&-k_{z}\n",
    "\\end{pmatrix}~\\leadsto E_{n}=\\pm\\sqrt{B(n+1)+k_{z}^{2}}(n\\geqslant 0)$\n",
    "\n",
    "$\\langle\\varphi_{2},0|-k_{z}|\\varphi_{2},0\\rangle=-k_{z}$\n",
    "\n",
    "$\\langle\\varphi_{1},N|k_{z}|\\varphi_{1},N\\rangle=k_{z}$"
   ]
  },
  {
   "cell_type": "markdown",
   "metadata": {},
   "source": [
    "$H_{LL}=\\begin{pmatrix}\n",
    "-k_{z}& 0 &0&\\cdots&0\\\\\n",
    "&\\langle \\psi_{0}|\\hat{H}|\\psi_{0}\\rangle&0& \\cdots&0\\\\\n",
    "&&\\langle \\psi_{1}|\\hat{H}|\\psi_{1}\\rangle& \\cdots&0\\\\\n",
    "&\\dagger&&\\ddots&0\\\\\n",
    "&&&&k_{z}\\\\\n",
    "\\end{pmatrix}$\n",
    "   $\\leadsto E_{n}=\\pm\\sqrt{Bn+k_{z}^{2}}(n\\geqslant 0)$"
   ]
  },
  {
   "cell_type": "code",
   "execution_count": 2,
   "metadata": {},
   "outputs": [
    {
     "ename": "SyntaxError",
     "evalue": "invalid syntax (<ipython-input-2-2c9a2e6dad35>, line 10)",
     "output_type": "error",
     "traceback": [
      "\u001b[1;36m  File \u001b[1;32m\"<ipython-input-2-2c9a2e6dad35>\"\u001b[1;36m, line \u001b[1;32m10\u001b[0m\n\u001b[1;33m    a=[[2 1]\u001b[0m\n\u001b[1;37m          ^\u001b[0m\n\u001b[1;31mSyntaxError\u001b[0m\u001b[1;31m:\u001b[0m invalid syntax\n"
     ]
    }
   ],
   "source": [
    "import matplotlib.pyplot as plt\n",
    "import numpy as np\n",
    "\n",
    "kz_list = np.arange(0,1,0.01); \n",
    "B = np.arange(0,20,0.1);\n",
    "N = 15; \n",
    "n_list = np.arange(1,N,1)\n",
    "\n",
    "Hamil = np.zeros([3,3])\n",
    "a=[[2 1]\n",
    "   [1,2]]\n",
    "print(Hamil,a)\n",
    "Hamil[0:1,0:1]=a"
   ]
  },
  {
   "cell_type": "code",
   "execution_count": 3,
   "metadata": {},
   "outputs": [
    {
     "ename": "NameError",
     "evalue": "name 'n_list' is not defined",
     "output_type": "error",
     "traceback": [
      "\u001b[1;31m---------------------------------------------------------------------------\u001b[0m",
      "\u001b[1;31mNameError\u001b[0m                                 Traceback (most recent call last)",
      "\u001b[1;32m<ipython-input-3-d34f077240e0>\u001b[0m in \u001b[0;36m<module>\u001b[1;34m\u001b[0m\n\u001b[0;32m      1\u001b[0m \u001b[0mlw\u001b[0m \u001b[1;33m=\u001b[0m \u001b[1;36m3\u001b[0m\u001b[1;33m\u001b[0m\u001b[1;33m\u001b[0m\u001b[0m\n\u001b[1;32m----> 2\u001b[1;33m \u001b[1;32mfor\u001b[0m \u001b[0mn\u001b[0m \u001b[1;32min\u001b[0m \u001b[0mn_list\u001b[0m\u001b[1;33m:\u001b[0m\u001b[1;33m\u001b[0m\u001b[1;33m\u001b[0m\u001b[0m\n\u001b[0m\u001b[0;32m      3\u001b[0m     \u001b[0mE\u001b[0m \u001b[1;33m=\u001b[0m \u001b[0mnp\u001b[0m\u001b[1;33m.\u001b[0m\u001b[0msqrt\u001b[0m\u001b[1;33m(\u001b[0m\u001b[0mB\u001b[0m\u001b[1;33m*\u001b[0m\u001b[1;33m(\u001b[0m\u001b[0mn\u001b[0m\u001b[1;33m+\u001b[0m\u001b[1;36m1\u001b[0m\u001b[1;33m)\u001b[0m \u001b[1;33m+\u001b[0m \u001b[0mkz\u001b[0m\u001b[1;33m**\u001b[0m\u001b[1;36m2\u001b[0m\u001b[1;33m)\u001b[0m\u001b[1;33m\u001b[0m\u001b[1;33m\u001b[0m\u001b[0m\n\u001b[0;32m      4\u001b[0m     \u001b[0mplt\u001b[0m\u001b[1;33m.\u001b[0m\u001b[0mplot\u001b[0m\u001b[1;33m(\u001b[0m\u001b[0mB\u001b[0m\u001b[1;33m,\u001b[0m\u001b[0mE\u001b[0m\u001b[1;33m,\u001b[0m\u001b[0mcolor\u001b[0m\u001b[1;33m=\u001b[0m\u001b[1;33m[\u001b[0m\u001b[1;36m0.5\u001b[0m\u001b[1;33m,\u001b[0m\u001b[1;36m0.5\u001b[0m\u001b[1;33m,\u001b[0m\u001b[1;36m0.5\u001b[0m\u001b[1;33m]\u001b[0m\u001b[1;33m,\u001b[0m\u001b[0mlinewidth\u001b[0m\u001b[1;33m=\u001b[0m\u001b[0mlw\u001b[0m\u001b[1;33m)\u001b[0m\u001b[1;33m\u001b[0m\u001b[1;33m\u001b[0m\u001b[0m\n\u001b[0;32m      5\u001b[0m \u001b[1;33m\u001b[0m\u001b[0m\n",
      "\u001b[1;31mNameError\u001b[0m: name 'n_list' is not defined"
     ]
    }
   ],
   "source": [
    "lw = 3\n",
    "for n in n_list:\n",
    "    E = np.sqrt(B*(n+1) + kz**2) \n",
    "    plt.plot(B,E,color=[0.5,0.5,0.5],linewidth=lw)\n",
    "    \n",
    "for n in n_list:\n",
    "    E = -np.sqrt(B*(n+1) + kz**2) \n",
    "    plt.plot(B,E,color=[0.5,0.5,0.5],linewidth=lw)"
   ]
  },
  {
   "cell_type": "code",
   "execution_count": 4,
   "metadata": {},
   "outputs": [
    {
     "ename": "NameError",
     "evalue": "name 'plt' is not defined",
     "output_type": "error",
     "traceback": [
      "\u001b[1;31m---------------------------------------------------------------------------\u001b[0m",
      "\u001b[1;31mNameError\u001b[0m                                 Traceback (most recent call last)",
      "\u001b[1;32m<ipython-input-4-a40e0b22d9a7>\u001b[0m in \u001b[0;36m<module>\u001b[1;34m\u001b[0m\n\u001b[0;32m      4\u001b[0m         'size'   : fs,}\n\u001b[0;32m      5\u001b[0m \u001b[1;33m\u001b[0m\u001b[0m\n\u001b[1;32m----> 6\u001b[1;33m \u001b[0mplt\u001b[0m\u001b[1;33m.\u001b[0m\u001b[0mxlabel\u001b[0m\u001b[1;33m(\u001b[0m\u001b[1;34m'B (T)'\u001b[0m\u001b[1;33m,\u001b[0m\u001b[0mfont1\u001b[0m\u001b[1;33m)\u001b[0m\u001b[1;33m\u001b[0m\u001b[1;33m\u001b[0m\u001b[0m\n\u001b[0m\u001b[0;32m      7\u001b[0m \u001b[0mplt\u001b[0m\u001b[1;33m.\u001b[0m\u001b[0mylabel\u001b[0m\u001b[1;33m(\u001b[0m\u001b[1;34m'$E_{n}$ (eV)'\u001b[0m\u001b[1;33m,\u001b[0m\u001b[0mfont1\u001b[0m\u001b[1;33m)\u001b[0m\u001b[1;33m\u001b[0m\u001b[1;33m\u001b[0m\u001b[0m\n\u001b[0;32m      8\u001b[0m \u001b[0mplt\u001b[0m\u001b[1;33m.\u001b[0m\u001b[0maxis\u001b[0m\u001b[1;33m(\u001b[0m\u001b[1;33m[\u001b[0m\u001b[1;36m0\u001b[0m\u001b[1;33m,\u001b[0m\u001b[1;36m20\u001b[0m\u001b[1;33m,\u001b[0m\u001b[1;33m-\u001b[0m\u001b[1;36m1\u001b[0m\u001b[1;33m,\u001b[0m\u001b[1;36m10\u001b[0m\u001b[1;33m]\u001b[0m\u001b[1;33m)\u001b[0m\u001b[1;33m\u001b[0m\u001b[1;33m\u001b[0m\u001b[0m\n",
      "\u001b[1;31mNameError\u001b[0m: name 'plt' is not defined"
     ]
    }
   ],
   "source": [
    "fs = 16\n",
    "font1 = {'family' : 'Times New Roman',\n",
    "        'weight' : 'normal',\n",
    "        'size'   : fs,}\n",
    "\n",
    "plt.xlabel('B (T)',font1)\n",
    "plt.ylabel('$E_{n}$ (eV)',font1)\n",
    "plt.axis([0,20,-1,10])\n",
    "plt.xticks(np.arange(0,21,5),fontsize=fs)\n",
    "plt.yticks(np.arange(-10,11,5),fontsize=fs)\n",
    "plt.text(15,2,'$k_{z}=0$',fontsize=fs)\n",
    "plt.show()"
   ]
  },
  {
   "cell_type": "markdown",
   "metadata": {},
   "source": [
    "# 2 Nodal-line SM"
   ]
  },
  {
   "cell_type": "markdown",
   "metadata": {},
   "source": [
    "## 2.1  $\\vec{B}=B\\hat{z}$: Perpenticular to the Ring"
   ]
  },
  {
   "cell_type": "markdown",
   "metadata": {},
   "source": [
    "$\\hat{H}=\\begin{pmatrix}k_{z}&m-(k_{x}^{2}+k_{y}^{2})\\\\ \\dagger&-k_{z}\\end{pmatrix}\n",
    "=\\begin{pmatrix}k_{z}&m-k_{+}k_{-}\\\\\\dagger&-k_{z}\\end{pmatrix}\n",
    "\\rightarrow\n",
    "\\begin{pmatrix}k_{z}&m-Ba^{\\dagger}a\\\\\\dagger&-k_{z}\\end{pmatrix}$"
   ]
  },
  {
   "cell_type": "markdown",
   "metadata": {},
   "source": [
    " with basis $(|\\varphi_{1}\\rangle,|\\varphi_{2}\\rangle)^{T}$"
   ]
  },
  {
   "cell_type": "markdown",
   "metadata": {},
   "source": [
    "- New basis after Landau level quantization:\n",
    "\n",
    "$(|\\varphi_{1},0\\rangle,|\\varphi_{2},0\\rangle,|\\varphi_{1},1\\rangle,|\\varphi_{2},1\\rangle,\\cdots)^{T}\n",
    "\\equiv (|\\psi_{0}\\rangle,|\\psi_{1}\\rangle,\\cdots)^{T}$"
   ]
  },
  {
   "cell_type": "markdown",
   "metadata": {},
   "source": [
    "$\\langle \\psi_{n}|\\hat{H}|\\psi_{n}\\rangle \n",
    "=\\begin{pmatrix}k_{z}&m-Bn\\\\\\dagger&-k_{z}\n",
    "\\end{pmatrix}$"
   ]
  },
  {
   "cell_type": "markdown",
   "metadata": {},
   "source": [
    "$H_{LL}=\\begin{pmatrix}\n",
    "\\langle \\psi_{0}|\\hat{H}|\\psi_{0}\\rangle&0& \\cdots\\\\\n",
    "&\\langle \\psi_{1}|\\hat{H}|\\psi_{1}\\rangle& \\cdots\\\\\n",
    "\\dagger&&\\ddots\\\\\n",
    "\\end{pmatrix}$\n",
    "    $\\leadsto E_{n,\\pm}=\\pm\\sqrt{\\left(m-Bn\\right)^{2}+k_{z}^{2}}~(n\\geqslant 0)$"
   ]
  },
  {
   "cell_type": "markdown",
   "metadata": {},
   "source": [
    "## 2.2 $\\vec{B}=B\\hat{x}$: Parallel to the Ring"
   ]
  },
  {
   "cell_type": "markdown",
   "metadata": {},
   "source": [
    "$\\hat{H}=\\begin{pmatrix}k_{z}&m-(k_{x}^{2}+k_{y}^{2})\\\\ \\dagger&-k_{z}\\end{pmatrix}\n",
    "\\rightarrow\n",
    "\\begin{pmatrix}\\frac{\\sqrt{B}}{2i}(a^{\\dagger}-a)&m-k_{x}^{2}-\\frac{B}{4}(a^{\\dagger}+a)^{2}\\\\\\dagger&-\\frac{\\sqrt{B}}{2i}(a^{\\dagger}-a)\\end{pmatrix}$\n",
    "\n",
    "with basis $(|\\varphi_{1}\\rangle,|\\varphi_{2}\\rangle)^{T}$"
   ]
  },
  {
   "cell_type": "markdown",
   "metadata": {},
   "source": [
    "- New basis after Landau level quantization:\n",
    "\n",
    "$(|\\varphi_{1},0\\rangle,|\\varphi_{2},0\\rangle,|\\varphi_{1},1\\rangle,|\\varphi_{2},1\\rangle,\\cdots)^{T}\n",
    "\\equiv (|\\psi_{0}\\rangle,|\\psi_{1}\\rangle,\\cdots)^{T}$"
   ]
  },
  {
   "cell_type": "markdown",
   "metadata": {},
   "source": [
    "$\\langle\\psi_{n}|\\hat{H}|\\psi_{n}\\rangle =\\begin{pmatrix}0&m-k_{x}^{2}-\\frac{B}{4}(2n+1)\\\\ \\dagger&0\\end{pmatrix}$\n",
    "\n",
    "$\\langle\\psi_{n}|\\hat{H}|\\psi_{n+1}\\rangle =\\begin{pmatrix}-\\frac{\\sqrt{B}}{2i}\\sqrt{n+1}&0\\\\ 0&-\\frac{\\sqrt{B}}{2i}\\sqrt{n+1}\\end{pmatrix}$\n",
    "\n",
    "$\\langle\\psi_{n}|\\hat{H}|\\psi_{n+2}\\rangle =\\begin{pmatrix}0&-\\frac{B}{4}\\sqrt{(n+2)(n+1)}\\\\ -\\frac{B}{4}\\sqrt{(n+2)(n+1)}&0\\end{pmatrix}$"
   ]
  }
 ],
 "metadata": {
  "kernelspec": {
   "display_name": "Python 3",
   "language": "python",
   "name": "python3"
  },
  "language_info": {
   "codemirror_mode": {
    "name": "ipython",
    "version": 3
   },
   "file_extension": ".py",
   "mimetype": "text/x-python",
   "name": "python",
   "nbconvert_exporter": "python",
   "pygments_lexer": "ipython3",
   "version": "3.7.3"
  }
 },
 "nbformat": 4,
 "nbformat_minor": 2
}
